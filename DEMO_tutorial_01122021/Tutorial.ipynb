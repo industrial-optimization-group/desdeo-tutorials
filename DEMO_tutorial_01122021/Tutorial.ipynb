{
 "cells": [
  {
   "cell_type": "markdown",
   "id": "7fc697b7-9e77-4d4a-9acc-422cff3fc774",
   "metadata": {},
   "source": [
    "# Defining a simple multiobjective optimization problem\n",
    "\n",
    "**Caveats:** \n",
    "\n",
    "- When defining evaluators, be very careful with variable names spaces and variable capturing. Avoid lambdas, when possible.\n",
    "- The names supplied to `ScalarConstraint` matter! The length of the name list is used to determine the number of objectives.\n",
    "- Constraint evaluators should always accept two arguments: the decision variables and objective vectors. Most of the time, the latter is not used.\n",
    "- _To make your life easy, minimize always and do not be cheesy!_\n",
    "\n",
    "Here, we will be defining a simple multiobjctive optimization problem with both function and box-constraints on the variables.\n",
    "\n",
    "## Imports\n",
    "\n",
    "We start with the relevant imports."
   ]
  },
  {
   "cell_type": "code",
   "execution_count": 38,
   "id": "c1b48cee-a157-41ce-9550-e32a11a4ef37",
   "metadata": {},
   "outputs": [],
   "source": [
    "import numpy as np\n",
    "\n",
    "from desdeo_problem import VectorObjective, Variable, ScalarConstraint, MOProblem"
   ]
  },
  {
   "cell_type": "markdown",
   "id": "52b32d68-c53b-438a-8b3f-c4d98b5f3fbf",
   "metadata": {},
   "source": [
    "## Objectives\n",
    "\n",
    "Let us define a problem with three objectives and two variables. We start by defining the objective function."
   ]
  },
  {
   "cell_type": "code",
   "execution_count": 39,
   "id": "ac38d77e-f0fa-45dd-a021-3b57eb82ee2d",
   "metadata": {},
   "outputs": [],
   "source": [
    "def objective(x: np.ndarray) -> np.ndarray:\n",
    "    # ensure that x is two dimensional\n",
    "    x = np.atleast_2d(x)\n",
    "    \n",
    "    # x[:, 0] refers to first variable values, x[:, 1] to second\n",
    "    f_1 = -x[:, 0] + x[:, 1]\n",
    "    f_2 = x[:, 0] - x[:, 1]\n",
    "    f_3 = x[:, 0] * x[:, 1] + 2.0\n",
    "    \n",
    "    # return each objective vector on a single row\n",
    "    return np.stack((f_1, f_2, f_3), axis=1)"
   ]
  },
  {
   "cell_type": "code",
   "execution_count": 40,
   "id": "6e2d69e1-218f-4f22-be96-b487e77b5687",
   "metadata": {},
   "outputs": [
    {
     "data": {
      "text/plain": [
       "array([[ 1., -1.,  4.],\n",
       "       [ 1., -1., 14.]])"
      ]
     },
     "execution_count": 40,
     "metadata": {},
     "output_type": "execute_result"
    }
   ],
   "source": [
    "objective([[1,2], [3,4]])"
   ]
  },
  {
   "cell_type": "code",
   "execution_count": 41,
   "id": "51890e4e-5c0c-4035-a070-3a24fcc3887c",
   "metadata": {},
   "outputs": [
    {
     "data": {
      "text/plain": [
       "array([[0., 0., 6.]])"
      ]
     },
     "execution_count": 41,
     "metadata": {},
     "output_type": "execute_result"
    }
   ],
   "source": [
    "objective([2,2])"
   ]
  },
  {
   "cell_type": "code",
   "execution_count": 47,
   "id": "b6dc1e6f-a9c3-47b2-89e4-a13bb2d11963",
   "metadata": {},
   "outputs": [],
   "source": [
    "# name, evaluator\n",
    "# evaluator must return objective vectors for VectorObjective\n",
    "# Obs! The names are used to deduce the number of objectives; make sure it is correct!\n",
    "objectives = [VectorObjective([\"f1\", \"f2\", \"f3\"], objective)]"
   ]
  },
  {
   "cell_type": "markdown",
   "id": "88d12836-c7d1-453e-ad28-6ecb60d5a039",
   "metadata": {},
   "source": [
    "## Variables\n",
    "\n",
    "Next, we formally  define the variables with box constraints."
   ]
  },
  {
   "cell_type": "code",
   "execution_count": 48,
   "id": "a5f942ca-218e-434e-a5c5-f676ea0ec38e",
   "metadata": {},
   "outputs": [],
   "source": [
    "# name, initial value, lower bound, upper bound\n",
    "x_1 = Variable(\"x1\", 0, -5.2, 2.4)\n",
    "x_2 = Variable(\"x2\", 1.0, -2.2, 1.8)\n",
    "\n",
    "# variables must be stored in a list when passed to MOProblem\n",
    "variables = [x_1, x_2]"
   ]
  },
  {
   "cell_type": "markdown",
   "id": "716def7e-15fc-4e26-aefa-3782ba6721b1",
   "metadata": {},
   "source": [
    "## Constraint\n",
    "\n",
    "Then, we define a function constraints. We begin by evaluating the constraint similar to objective, when we pass it to `ScalarConstraint` so that we can define `MOProblem` using it."
   ]
  },
  {
   "cell_type": "code",
   "execution_count": 60,
   "id": "5c6714b8-dad9-4215-bc1b-813ef8c9577e",
   "metadata": {},
   "outputs": [],
   "source": [
    "def constraint(x: np.ndarray, _) -> np.ndarray:\n",
    "    # constraint functions exactly like an objective would, but in this case, it will\n",
    "    # return a single scalar value for each decision variable vector\n",
    "    x = np.atleast_2d(x)\n",
    "    \n",
    "    # x1 + x2 should be more than 3\n",
    "    con_value = x[:, 0] + x[:, 1] - 3.0\n",
    "    \n",
    "    return con_value\n",
    "\n",
    "# name, n of decision vars, n of objectives, evaluator\n",
    "# constraint must be supplied as a list to MOProblem\n",
    "constraints = [ScalarConstraint(\"con1\", 2, 3, constraint)]"
   ]
  },
  {
   "cell_type": "markdown",
   "id": "addefc7d-c2d5-455a-89af-91b266c1f93a",
   "metadata": {},
   "source": [
    "## MOProblem instantation\n",
    "\n",
    "Now we are ready to define the multiobjective optimization problem. We define it as an instance of `MOProblem`."
   ]
  },
  {
   "cell_type": "code",
   "execution_count": 61,
   "id": "1af6ea96-1361-4023-8248-9395c7fbcad1",
   "metadata": {},
   "outputs": [],
   "source": [
    "# objectives, variables, constraints\n",
    "moproblem = MOProblem(objectives, variables, constraints)"
   ]
  },
  {
   "cell_type": "markdown",
   "id": "66afc5c6-6b13-4cda-85df-78ffd68d9cbf",
   "metadata": {},
   "source": [
    "The `moproblem` object can be evaluated using the `.evaluate`-method."
   ]
  },
  {
   "cell_type": "code",
   "execution_count": 62,
   "id": "0e4a1a6f-db5a-4d55-8a44-6f9e278d834f",
   "metadata": {},
   "outputs": [
    {
     "data": {
      "text/plain": [
       "EvaluationResults(objectives=array([[0., 0., 6.]]), fitness=array([[0., 0., 6.]]), constraints=array([[1.]]), uncertainity=array([[nan, nan, nan]]))"
      ]
     },
     "execution_count": 62,
     "metadata": {},
     "output_type": "execute_result"
    }
   ],
   "source": [
    "moproblem.evaluate(np.atleast_2d([2,2]))"
   ]
  },
  {
   "cell_type": "code",
   "execution_count": 66,
   "id": "77a2178f-07b3-4d77-a50c-05351a16814d",
   "metadata": {},
   "outputs": [
    {
     "name": "stdout",
     "output_type": "stream",
     "text": [
      "Objectives:\n",
      "[[ 2.   -2.    1.  ]\n",
      " [-1.    1.    4.  ]\n",
      " [ 1.1  -1.1   4.42]]\n",
      "Constraint values:\n",
      "[[-3. ]\n",
      " [ 0. ]\n",
      " [ 0.3]]\n"
     ]
    }
   ],
   "source": [
    "result = moproblem.evaluate(np.array([[-1, 1], [2, 1], [1.1, 2.2]]))\n",
    "print(f\"Objectives:\\n{result.objectives}\")\n",
    "print(f\"Constraint values:\\n{result.constraints}\")"
   ]
  },
  {
   "cell_type": "markdown",
   "id": "034569b1-4d2f-4c80-aff1-418d15cbcea0",
   "metadata": {},
   "source": [
    "# Scalarizing MOProblems"
   ]
  },
  {
   "cell_type": "markdown",
   "id": "2bf2d478-9d18-42cc-bda6-1066bc0903bf",
   "metadata": {},
   "source": [
    "Here we see an example how MOProblems can be scalarized. We begin with the relevant imports."
   ]
  },
  {
   "cell_type": "code",
   "execution_count": 112,
   "id": "c3218d21-8b58-4d82-ad84-089cf3e723e3",
   "metadata": {},
   "outputs": [],
   "source": [
    "from desdeo_tools.scalarization import Scalarizer, StomASF\n",
    "from desdeo_tools.solver import ScalarMethod, ScalarMinimizer"
   ]
  },
  {
   "cell_type": "markdown",
   "id": "c6bbf094-cbe5-4e20-9bbe-19a374b22647",
   "metadata": {},
   "source": [
    "- `Scalarizer` is used to scalarize an instance of `MOProblem`, i.e., by some achievement scalarizing functions like `StomASF` here.\n",
    "- `ScalarMethod` is used to define minimization routines to minimize scalar valued functions scalarized by `Scalarizer`.\n",
    "- `ScalarMinimizer` utilizes `ScalarMehthod` to solve the scalarized problem."
   ]
  },
  {
   "cell_type": "markdown",
   "id": "e5a89104-ae50-4dea-b810-d80d034f2562",
   "metadata": {},
   "source": [
    "Scalarizing `moproblem` with a custom scalarizer:"
   ]
  },
  {
   "cell_type": "code",
   "execution_count": 113,
   "id": "9c367f3d-47c8-4e85-9b54-d693104112bf",
   "metadata": {},
   "outputs": [],
   "source": [
    "def not_very_smart(fs: np.ndarray, encouraging_message: str = None) -> np.ndarray:\n",
    "    fs = np.atleast_2d(fs)\n",
    "    \n",
    "    if encouraging_message is not None:\n",
    "        print(encouraging_message)\n",
    "    \n",
    "    return np.sum(fs, axis=1)"
   ]
  },
  {
   "cell_type": "code",
   "execution_count": 114,
   "id": "67a0dea6-ba71-491f-adc7-8d8d2747c20e",
   "metadata": {},
   "outputs": [
    {
     "data": {
      "text/plain": [
       "array([6])"
      ]
     },
     "execution_count": 114,
     "metadata": {},
     "output_type": "execute_result"
    }
   ],
   "source": [
    "not_very_smart([1,2,3])"
   ]
  },
  {
   "cell_type": "code",
   "execution_count": 115,
   "id": "c1227ac7-b738-4bf6-bc82-8266a2acdf21",
   "metadata": {},
   "outputs": [
    {
     "name": "stdout",
     "output_type": "stream",
     "text": [
      "Do not worry, you will learn to scalarize MO problems properly some day...\n"
     ]
    },
    {
     "data": {
      "text/plain": [
       "array([ 6, 12])"
      ]
     },
     "execution_count": 115,
     "metadata": {},
     "output_type": "execute_result"
    }
   ],
   "source": [
    "not_very_smart([[1,2,3], [3,4,5]], encouraging_message=\"Do not worry, you will learn to scalarize MO problems properly some day...\")"
   ]
  },
  {
   "cell_type": "markdown",
   "id": "1892037b-7b03-4a6e-a671-2434e90dfbf8",
   "metadata": {},
   "source": [
    "## Defining a custom scalarizer"
   ]
  },
  {
   "cell_type": "code",
   "execution_count": 116,
   "id": "977139b4-1383-42a2-8cc1-31b205c310d3",
   "metadata": {},
   "outputs": [],
   "source": [
    "# evaluator from decision variables to objective vectors, scalarizer, arguments to the first evaluator, arguments to the scalarizer function\n",
    "custom_scalarizer = Scalarizer(lambda x: moproblem.evaluate(x).objectives, not_very_smart, evaluator_args=None, scalarizer_args={\"encouraging_message\": \"Scalarized!\"})"
   ]
  },
  {
   "cell_type": "code",
   "execution_count": 117,
   "id": "957709c0-95d1-423a-818c-8299dd6b8eba",
   "metadata": {},
   "outputs": [
    {
     "name": "stdout",
     "output_type": "stream",
     "text": [
      "Scalarized!\n"
     ]
    },
    {
     "name": "stderr",
     "output_type": "stream",
     "text": [
      "/home/kilo/.cache/pypoetry/virtualenvs/desdeo-tutorial-HDcz-zLO-py3.9/lib/python3.9/site-packages/desdeo_problem/problem/Problem.py:1149: UserWarning: Some decision variable values violate upper bounds\n",
      "  warn(\"Some decision variable values violate upper bounds\")\n"
     ]
    },
    {
     "data": {
      "text/plain": [
       "array([4.])"
      ]
     },
     "execution_count": 117,
     "metadata": {},
     "output_type": "execute_result"
    }
   ],
   "source": [
    "custom_scalarizer.evaluate([1,2])"
   ]
  },
  {
   "cell_type": "code",
   "execution_count": 118,
   "id": "b1289840-417e-4155-b15a-3f45926faee8",
   "metadata": {},
   "outputs": [
    {
     "name": "stdout",
     "output_type": "stream",
     "text": [
      "Scalarized!\n"
     ]
    },
    {
     "data": {
      "text/plain": [
       "array([3.  , 4.25])"
      ]
     },
     "execution_count": 118,
     "metadata": {},
     "output_type": "execute_result"
    }
   ],
   "source": [
    "# the scalarizer is called with decision variable values\n",
    "custom_scalarizer.evaluate(np.array(np.array([[1,1], [1.5, 1.5]])))"
   ]
  },
  {
   "cell_type": "markdown",
   "id": "ce6220e6-0acf-4a81-802e-8b95e563fcad",
   "metadata": {},
   "source": [
    "## Defining a custom solver"
   ]
  },
  {
   "cell_type": "markdown",
   "id": "eef5bbeb-601e-4130-878e-947ac52edde2",
   "metadata": {},
   "source": [
    "Here we define a custom solver by wrapping scipy's minimization routine into utilizing ScalarMethod."
   ]
  },
  {
   "cell_type": "code",
   "execution_count": 137,
   "id": "a48b307c-d2b5-4a54-9c8a-30ebb9831f85",
   "metadata": {},
   "outputs": [],
   "source": [
    "from scipy.optimize import minimize as scipy_minimize\n",
    "from typing import Callable"
   ]
  },
  {
   "cell_type": "code",
   "execution_count": 138,
   "id": "ac3afc30-ed60-4166-89f2-6cc807613aef",
   "metadata": {},
   "outputs": [],
   "source": [
    "def custom_minimizer(objectives: Callable, x0: np.ndarray, bounds: np.ndarray, constraints: Callable, scipy_method: str = \"SLSQP\") -> dict:\n",
    "    res = scipy_minimize(objectives, x0, bounds=bounds, constraints=constraints, method=scipy_method)\n",
    "    return {\"x\": res.x, \"success\": res.success}\n",
    "\n",
    "scipy_method = ScalarMethod(custom_minimizer, method_args={\"scipy_method\": \"SLSQP\"}, use_scipy=True)\n",
    "custom_minimizer = ScalarMinimizer(custom_scalarizer, moproblem.get_variable_bounds(), constraint_evaluator=lambda x: moproblem.evaluate(x).constraints.squeeze(), method=scipy_method)"
   ]
  },
  {
   "cell_type": "code",
   "execution_count": 139,
   "id": "46c44bea-93a1-4453-8f47-8de305ac60fc",
   "metadata": {},
   "outputs": [
    {
     "name": "stdout",
     "output_type": "stream",
     "text": [
      "Scalarized!\n",
      "Scalarized!\n",
      "Scalarized!\n",
      "Scalarized!\n",
      "Scalarized!\n",
      "Scalarized!\n",
      "Optimization was successful? -> True\n",
      "Solution:[1.5 1.5]\n",
      "Objective values: [[0.   0.   4.25]]\n"
     ]
    }
   ],
   "source": [
    "result = custom_minimizer.minimize(np.array([1,1]))\n",
    "\n",
    "print(f\"Optimization was successful? -> {result['success']}\")\n",
    "print(f\"Solution:{result['x']}\")\n",
    "print(f\"Objective values: {moproblem.evaluate(result['x']).objectives}\")"
   ]
  },
  {
   "cell_type": "markdown",
   "id": "41b4f455-21c5-41e9-86e2-99bfbbe86a49",
   "metadata": {},
   "source": [
    "## Utilizing presets"
   ]
  },
  {
   "cell_type": "code",
   "execution_count": 209,
   "id": "7d59c1de-4cf1-4b72-ad45-c20ba52f5978",
   "metadata": {},
   "outputs": [],
   "source": [
    "ideal = np.array([-1.8, -0.6, 7])\n",
    "asf = StomASF(ideal)\n",
    "\n",
    "asf_scalarizer = Scalarizer(lambda x: moproblem.evaluate(x).objectives, asf, scalarizer_args={\"reference_point\": ideal})\n",
    "preset_minimizer = ScalarMinimizer(asf_scalarizer, moproblem.get_variable_bounds(), constraint_evaluator=lambda x: moproblem.evaluate(x).constraints.squeeze(), method='scipy_de')"
   ]
  },
  {
   "cell_type": "code",
   "execution_count": 210,
   "id": "8813f6d9-b037-4636-b25a-f91f7c6ff944",
   "metadata": {},
   "outputs": [
    {
     "name": "stderr",
     "output_type": "stream",
     "text": [
      "/home/kilo/.cache/pypoetry/virtualenvs/desdeo-tutorial-HDcz-zLO-py3.9/lib/python3.9/site-packages/desdeo_problem/problem/Problem.py:1149: UserWarning:\n",
      "\n",
      "Some decision variable values violate upper bounds\n",
      "\n",
      "/home/kilo/.cache/pypoetry/virtualenvs/desdeo-tutorial-HDcz-zLO-py3.9/lib/python3.9/site-packages/scipy/optimize/_hessian_update_strategy.py:182: UserWarning:\n",
      "\n",
      "delta_grad == 0.0. Check if the approximated function is linear. If the function is linear better results can be obtained by defining the Hessian as zero instead of using quasi-Newton approximations.\n",
      "\n"
     ]
    }
   ],
   "source": [
    "result = preset_minimizer.minimize(np.array([1,1]))"
   ]
  },
  {
   "cell_type": "code",
   "execution_count": 211,
   "id": "0534e4d9-c557-4a66-b8af-78b8cb92ffbb",
   "metadata": {},
   "outputs": [
    {
     "name": "stdout",
     "output_type": "stream",
     "text": [
      "Optimization was successful? -> True\n",
      "Solution:[2.28355206 1.68355206]\n",
      "Objective values: [[-0.6         0.6         5.84447877]]\n"
     ]
    }
   ],
   "source": [
    "print(f\"Optimization was successful? -> {result['success']}\")\n",
    "print(f\"Solution:{result['x']}\")\n",
    "print(f\"Objective values: {moproblem.evaluate(result['x']).objectives}\")"
   ]
  },
  {
   "cell_type": "markdown",
   "id": "65c6a4a4-bda6-43d0-8a81-6bc5cd8ada08",
   "metadata": {},
   "source": [
    "# Evolving MOProblems"
   ]
  },
  {
   "cell_type": "markdown",
   "id": "7a691820-792c-49f0-900d-2c7f04ad26de",
   "metadata": {},
   "source": [
    "We can find a bunch of approximate solutions utilizing evolutionary methods. We begin with the needed imports."
   ]
  },
  {
   "cell_type": "code",
   "execution_count": 212,
   "id": "c3f09979-d503-4cb3-b01b-65d42e4ed349",
   "metadata": {},
   "outputs": [],
   "source": [
    "from desdeo_emo.EAs import NSGAIII"
   ]
  },
  {
   "cell_type": "code",
   "execution_count": 218,
   "id": "4dc36046-362e-4610-8562-2f02519f6f61",
   "metadata": {},
   "outputs": [],
   "source": [
    "evolver = NSGAIII(moproblem,\n",
    "                  interact=False,\n",
    "                  n_iterations=10,\n",
    "                  n_gen_per_iter=100,\n",
    "                  population_size=100)"
   ]
  },
  {
   "cell_type": "code",
   "execution_count": 219,
   "id": "ef494277-8acf-40cc-8cdf-c49e4aba21f7",
   "metadata": {},
   "outputs": [],
   "source": [
    "while evolver.continue_evolution():\n",
    "    evolver.iterate()"
   ]
  },
  {
   "cell_type": "code",
   "execution_count": 220,
   "id": "af7908cf-2352-4547-96cf-7f58441b4ccc",
   "metadata": {},
   "outputs": [],
   "source": [
    "# return the population and approximate Pareto front, .end() does non-dominated sorting\n",
    "population, aprx_pf = evolver.end()"
   ]
  },
  {
   "cell_type": "code",
   "execution_count": 221,
   "id": "648ea69c-cab9-48ca-a587-ee900bd01916",
   "metadata": {},
   "outputs": [],
   "source": [
    "# clean up the population\n",
    "mask = (moproblem.evaluate(population).constraints >= 0).flatten()\n",
    "\n",
    "clean_pop = population[mask]\n",
    "clean_frt = aprx_pf[mask]"
   ]
  },
  {
   "cell_type": "code",
   "execution_count": 223,
   "id": "fd17946d-8193-4b6e-a24b-8e3135a3231b",
   "metadata": {},
   "outputs": [
    {
     "name": "stdout",
     "output_type": "stream",
     "text": [
      "True ideal: [-1.8 -0.6  7. ]\n",
      "EMO ideal: [-1.58347679  0.24996009  3.69208732]\n",
      "EMO nadir: [-0.24996009  1.58347679  5.63986062]\n"
     ]
    }
   ],
   "source": [
    "# We will need an ideal and nadir later.\n",
    "emo_ideal = np.min(clean_frt, axis=0)\n",
    "emo_nadir = np.max(clean_frt, axis=0)\n",
    "\n",
    "print(f\"True ideal: {ideal}\")\n",
    "print(f\"EMO ideal: {emo_ideal}\")\n",
    "print(f\"EMO nadir: {emo_nadir}\")"
   ]
  },
  {
   "cell_type": "code",
   "execution_count": 226,
   "id": "5f2aab8d-9ab4-4c61-9807-e9fcd7f74e76",
   "metadata": {},
   "outputs": [],
   "source": [
    "# Ehhh, close enough...\n",
    "moproblem.ideal = ideal\n",
    "moproblem.nadir = emo_nadir"
   ]
  },
  {
   "cell_type": "markdown",
   "id": "3bee3567-ecd6-4488-97fe-2fa4d96d2176",
   "metadata": {},
   "source": [
    "# Interacting with interactive methods\n",
    "\n",
    "We will see how to interact with interactive methods by utilizing the reference point method in the `desdeo-mcdm` module. We begin by importing the method."
   ]
  },
  {
   "cell_type": "code",
   "execution_count": 229,
   "id": "a4b96562-6148-4363-b406-2580299b3569",
   "metadata": {},
   "outputs": [],
   "source": [
    "from desdeo_mcdm.interactive import ReferencePointMethod"
   ]
  },
  {
   "cell_type": "markdown",
   "id": "94adab5d-9007-4cee-b79b-72811bb80819",
   "metadata": {},
   "source": [
    "Initializing the method:"
   ]
  },
  {
   "cell_type": "code",
   "execution_count": 230,
   "id": "8a3508c1-b9fc-4b20-9869-c5e26bdcc41f",
   "metadata": {},
   "outputs": [],
   "source": [
    "rpm_method = ReferencePointMethod(moproblem, moproblem.ideal, moproblem.nadir)"
   ]
  },
  {
   "cell_type": "markdown",
   "id": "53ba1623-4889-4efc-af0a-56c375616da1",
   "metadata": {},
   "source": [
    "Interactive methods are started by invoking the `start` method. The `start`-method will return our first `request`:"
   ]
  },
  {
   "cell_type": "code",
   "execution_count": 231,
   "id": "6ae7ff6b-3d47-4299-80a0-ccbedcb50f90",
   "metadata": {},
   "outputs": [],
   "source": [
    "first_request = rpm_method.start()"
   ]
  },
  {
   "cell_type": "markdown",
   "id": "c301a185-a868-4f3f-8f64-3becd5027caf",
   "metadata": {},
   "source": [
    "Let us inspect the first request:"
   ]
  },
  {
   "cell_type": "code",
   "execution_count": 232,
   "id": "f8c1d455-e291-4d48-92cd-345601464cd9",
   "metadata": {},
   "outputs": [
    {
     "data": {
      "text/plain": [
       "{'message': \"Please specify a reference point as 'reference_point'.\",\n",
       " 'ideal': array([-1.8, -0.6,  7. ]),\n",
       " 'nadir': array([-0.24996009,  1.58347679,  5.63986062])}"
      ]
     },
     "execution_count": 232,
     "metadata": {},
     "output_type": "execute_result"
    }
   ],
   "source": [
    "first_request.content"
   ]
  },
  {
   "cell_type": "code",
   "execution_count": 235,
   "id": "d0e83cda-fa60-45ee-8010-9ac45eb2b5d9",
   "metadata": {},
   "outputs": [],
   "source": [
    "# The response is empty for now\n",
    "first_request.response"
   ]
  },
  {
   "cell_type": "markdown",
   "id": "0c3bc20b-7426-4119-86aa-99ce3de5ba2b",
   "metadata": {},
   "source": [
    "The message will give us a tip how to proceed:"
   ]
  },
  {
   "cell_type": "code",
   "execution_count": 237,
   "id": "1bc9198f-b91c-4a72-95fd-78d31fec8608",
   "metadata": {},
   "outputs": [
    {
     "data": {
      "text/plain": [
       "\"Please specify a reference point as 'reference_point'.\""
      ]
     },
     "execution_count": 237,
     "metadata": {},
     "output_type": "execute_result"
    }
   ],
   "source": [
    "first_request.content[\"message\"]"
   ]
  },
  {
   "cell_type": "markdown",
   "id": "f1ef8a54-c841-42a7-a6e8-b1b0248ab977",
   "metadata": {},
   "source": [
    "Let us provide an initial referencep point as instructed. The reference point should be between the ideal and nadir points:\n"
   ]
  },
  {
   "cell_type": "code",
   "execution_count": 240,
   "id": "da8bb1ef-1004-499b-beb8-e56157dd2db9",
   "metadata": {},
   "outputs": [
    {
     "name": "stdout",
     "output_type": "stream",
     "text": [
      "Ideal point: [-1.8 -0.6  7. ]\n",
      "Nadir point: [-0.24996009  1.58347679  5.63986062]\n"
     ]
    }
   ],
   "source": [
    "print(f\"Ideal point: {first_request.content['ideal']}\")\n",
    "print(f\"Nadir point: {first_request.content['nadir']}\")"
   ]
  },
  {
   "cell_type": "code",
   "execution_count": 241,
   "id": "cfceac3a-701a-4342-a25b-c83d0bc82a68",
   "metadata": {},
   "outputs": [],
   "source": [
    "reference_point = np.array([-1.5, 1.2, 6.1])"
   ]
  },
  {
   "cell_type": "markdown",
   "id": "26dfc9fa-f816-4240-a293-77264a89e10c",
   "metadata": {},
   "source": [
    "The reference point must be defined as part of the `response` to `first_request`:"
   ]
  },
  {
   "cell_type": "code",
   "execution_count": 242,
   "id": "dc9be152-458d-4edd-bdbf-5dcbbaa24778",
   "metadata": {},
   "outputs": [],
   "source": [
    "our_response = {\"reference_point\": reference_point}\n",
    "first_request.response = our_response"
   ]
  },
  {
   "cell_type": "markdown",
   "id": "224f98cc-ac07-4be3-b238-755abb0332f5",
   "metadata": {},
   "source": [
    "We may now continue iterating:\n"
   ]
  },
  {
   "cell_type": "code",
   "execution_count": 246,
   "id": "84ef5c27-4ed1-481a-a924-1f505d84bbe8",
   "metadata": {},
   "outputs": [
    {
     "name": "stdout",
     "output_type": "stream",
     "text": [
      "message: In case you are satisfied with one of the solutions, please state:  1. 'satisfied' as 'True'.2. 'solution_index' as the index number of the solution you choose, so that first solution has index number of 0, second 1 and so on.Otherwise, please state 'satisfied' as 'False and specify a new reference point as 'reference_point'.\n",
      "\n",
      "current_solution: [-4.59998191  4.59998191 -3.2799584 ]\n",
      "\n",
      "additional_solutions: [array([-4.5999794,  4.5999794, -3.2799526]), array([-4.5999776 ,  4.5999776 , -3.27994847]), array([-4.59997562,  4.59997562, -3.27994391])]\n",
      "\n"
     ]
    }
   ],
   "source": [
    "second_request = rpm_method.iterate(first_request)\n",
    "\n",
    "# Obs! The reference point method does not care about constraints right now...\n",
    "for key in second_request.content:\n",
    "    print(f\"{key}: {second_request.content[key]}\\n\")"
   ]
  },
  {
   "cell_type": "markdown",
   "id": "e1776e13-3b36-4c45-8aad-ef30221ca545",
   "metadata": {},
   "source": [
    "Let us define a new reference point and iterate once more:"
   ]
  },
  {
   "cell_type": "code",
   "execution_count": 249,
   "id": "9f0876d1-2145-48bb-b36c-c0bf6ed0f402",
   "metadata": {},
   "outputs": [],
   "source": [
    "reference_point = np.array([-1.4, 1.4, 5.8])\n",
    "second_request.response = {\"reference_point\": reference_point}\n",
    "\n",
    "last_request = rpm_method.iterate(second_request)"
   ]
  },
  {
   "cell_type": "code",
   "execution_count": 250,
   "id": "22514c7b-0fc2-4bf5-ab04-ac1405e4e75b",
   "metadata": {},
   "outputs": [
    {
     "name": "stdout",
     "output_type": "stream",
     "text": [
      "message: In case you are satisfied with one of the solutions, please state:  1. 'satisfied' as 'True'.2. 'solution_index' as the index number of the solution you choose, so that first solution has index number of 0, second 1 and so on.Otherwise, please state 'satisfied' as 'False and specify a new reference point as 'reference_point'.\n",
      "\n",
      "current_solution: [-4.59997248  4.59997248 -3.27993671]\n",
      "\n",
      "additional_solutions: [array([-4.59997115,  4.59997115, -3.27993369]), array([-4.5999695,  4.5999695, -3.2799298]), array([-4.59996774,  4.59996774, -3.27992581])]\n",
      "\n"
     ]
    }
   ],
   "source": [
    "# Obs! The reference point method does not care about constraints right now...\n",
    "for key in last_request.content:\n",
    "    print(f\"{key}: {last_request.content[key]}\\n\")"
   ]
  },
  {
   "cell_type": "markdown",
   "id": "52a93da6-ef70-4b9a-8e25-064cf413b010",
   "metadata": {},
   "source": [
    "Suppose we are now satisfied with the second solution:"
   ]
  },
  {
   "cell_type": "code",
   "execution_count": 252,
   "id": "3abf7529-dcf0-4c63-b417-15a68616d512",
   "metadata": {},
   "outputs": [],
   "source": [
    "last_request.response = {\"satisfied\": True, \"solution_index\": 1}\n",
    "\n",
    "end_request = rpm_method.iterate(last_request)"
   ]
  },
  {
   "cell_type": "code",
   "execution_count": 253,
   "id": "2cc36059-ce7e-48a5-9992-b8065e64604e",
   "metadata": {},
   "outputs": [
    {
     "name": "stdout",
     "output_type": "stream",
     "text": [
      "message: Final solution found.\n",
      "\n",
      "solution: [ 2.39998537 -2.19998578]\n",
      "\n",
      "objective_vector: [-4.59997115  4.59997115 -3.27993369]\n",
      "\n"
     ]
    }
   ],
   "source": [
    "# Obs! The reference point method does not care about constraints right now...\n",
    "for key in end_request.content:\n",
    "    print(f\"{key}: {end_request.content[key]}\\n\")"
   ]
  },
  {
   "cell_type": "markdown",
   "id": "1a2b0309-47fa-47f1-a3d5-db9b54d931d9",
   "metadata": {},
   "source": [
    "As we can see, the reference point method has miserably failed to take into account the constraints. Why? Because at least I have tested most of the methods with problems without constraints. Lesson learned: test coverage matters!"
   ]
  },
  {
   "cell_type": "code",
   "execution_count": null,
   "id": "243f6c92-bec1-4527-8588-e7cd208ac689",
   "metadata": {},
   "outputs": [],
   "source": []
  }
 ],
 "metadata": {
  "kernelspec": {
   "display_name": "tutorial",
   "language": "python",
   "name": "tutorial"
  },
  "language_info": {
   "codemirror_mode": {
    "name": "ipython",
    "version": 3
   },
   "file_extension": ".py",
   "mimetype": "text/x-python",
   "name": "python",
   "nbconvert_exporter": "python",
   "pygments_lexer": "ipython3",
   "version": "3.9.7"
  }
 },
 "nbformat": 4,
 "nbformat_minor": 5
}
